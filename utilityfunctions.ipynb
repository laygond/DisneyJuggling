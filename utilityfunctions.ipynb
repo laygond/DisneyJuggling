{
 "cells": [
  {
   "cell_type": "code",
   "execution_count": null,
   "metadata": {},
   "outputs": [],
   "source": [
    "import numpy as np\n",
    "import math\n",
    "import argparse\n",
    "import cv2\n",
    "import os\n",
    "import random\n",
    "import json\n",
    "import csv\n",
    "from moviepy.editor import VideoFileClip,VideoClip,ImageSequenceClip,concatenate_videoclips,TextClip\n",
    "from moviepy.video import fx\n",
    "# from moviepy.editor import *\n",
    "# import moviepy.video.fx.all as vfx\n",
    "from IPython.display import HTML, YouTubeVideo, display\n",
    "import matplotlib.pyplot as plt\n",
    "import shutil\n",
    "%matplotlib inline"
   ]
  },
  {
   "cell_type": "code",
   "execution_count": null,
   "metadata": {},
   "outputs": [],
   "source": [
    "video_name = \"ss441_id_013.MP4\"\n",
    "video_path = os.path.join(\"..\",\"DATASET_Juggling\",\"Juggling_Pattern_Dataset\",\"Source_Video\", video_name)\n",
    "\n",
    "# Watch Video\n",
    "display(HTML(\"\"\"\n",
    "            <video width=\"960\" height=\"540\" controls>\n",
    "              <source src=\"{0}\">\n",
    "            </video>\n",
    "            \"\"\".format(video_path)))"
   ]
  },
  {
   "cell_type": "markdown",
   "metadata": {},
   "source": [
    "# Trim Video (BE CAREFUL!)\n",
    "BE CAREFUL USING THIS!!!"
   ]
  },
  {
   "cell_type": "code",
   "execution_count": null,
   "metadata": {},
   "outputs": [],
   "source": [
    "%%capture\n",
    "# Make clip of Video\n",
    "video_name = \"temp.MP4\"\n",
    "video_path = os.path.join(\"..\",\"DATASET_Juggling\",\"Juggling_Pattern_Dataset\",\"Source_Video\", video_name)\n",
    "clip  = VideoFileClip(video_path)\n",
    "\n",
    "# Subclip Video\n",
    "start_time, end_time = int(4740*10/clip.fps)/10.0, clip.duration   # one decimal place\n",
    "video_clip  = clip.subclip(start_time, end_time)\n",
    "\n",
    "# Save Video \n",
    "dest_path = os.path.join(\"..\",\"DATASET_Juggling\",\"Juggling_Pattern_Dataset\",\"Source_Video\", \"ss441_id_013.MP4\")\n",
    "%time video_clip.write_videofile(dest_path, audio=False)"
   ]
  },
  {
   "cell_type": "markdown",
   "metadata": {},
   "source": [
    "# Count and Join Folder Files\n",
    "Set a main folder and sub folders. This piece of code will take already enumerated files in subfolders and re-enumerate them into a single main folder, i.e.,\n",
    "\n",
    "if sub_folder_1 = [f_1,f_2,f_3,f_4] and sub_folder_2 = [f_1,f_2,] then main_folder= [f_1,f_2,f_3,f_4,f_5,f_6]"
   ]
  },
  {
   "cell_type": "code",
   "execution_count": null,
   "metadata": {},
   "outputs": [],
   "source": [
    "# Directories and Folders\n",
    "folder_dir  = os.path.join(\"..\",\"openpose-1.5.0-binaries-win64-only_cpu-unity\",\"media_output\")\n",
    "sub_folder  = [\"first_part\",\"second_part\",\"third_part\", \"fourth_part\", \"fifth_part\"]\n",
    "main_folder = \"ss441_id_013\"\n",
    "\n",
    "\n",
    "# Create or reset main folder\n",
    "try:\n",
    "    os.mkdir(os.path.join(folder_dir, main_folder))\n",
    "    print (\"Folder is ready already\")\n",
    "except FileExistsError:\n",
    "    shutil.rmtree(os.path.join(folder_dir, main_folder))\n",
    "    os.mkdir(os.path.join(folder_dir, main_folder))\n",
    "    print (\"Folder is ready already\")\n",
    "\n",
    "\n",
    "# Count and Join\n",
    "for i in range(len(sub_folder)):\n",
    "    \n",
    "    sub_data  = os.listdir(os.path.join(folder_dir, sub_folder[i]))\n",
    "    main_data = os.listdir(os.path.join(folder_dir, main_folder))\n",
    "    len_initial_main_data = len(main_data)\n",
    "    print(\"[INFO] main folder so far...\", len_initial_main_data, \" files\")\n",
    "    \n",
    "    for k in range(len(sub_data)):\n",
    "        file_name_part = sub_data[k].split('_')\n",
    "        new_num = int(file_name_part[3]) +  len_initial_main_data\n",
    "\n",
    "        new_file_name = \"\".join((file_name_part[0] , '_' , \n",
    "                                file_name_part[1] , '_' , \n",
    "                                file_name_part[2] , '_' , \n",
    "                                '0' * (len(file_name_part[3])-len(str(new_num))) + str(new_num) , '_' , \n",
    "                                file_name_part[4] ))\n",
    "\n",
    "        shutil.copyfile(os.path.join(folder_dir,sub_folder[i],sub_data[k]),os.path.join(folder_dir, main_folder ,new_file_name))\n",
    "\n",
    "print(\"[INFO] main folder completed: \", len(os.listdir(os.path.join(folder_dir, main_folder))), \" files\")"
   ]
  }
 ],
 "metadata": {
  "kernelspec": {
   "display_name": "Python 3",
   "language": "python",
   "name": "python3"
  },
  "language_info": {
   "codemirror_mode": {
    "name": "ipython",
    "version": 3
   },
   "file_extension": ".py",
   "mimetype": "text/x-python",
   "name": "python",
   "nbconvert_exporter": "python",
   "pygments_lexer": "ipython3",
   "version": "3.7.3"
  }
 },
 "nbformat": 4,
 "nbformat_minor": 4
}
